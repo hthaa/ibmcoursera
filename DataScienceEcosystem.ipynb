{
 "cells": [
  {
   "cell_type": "markdown",
   "id": "6d8dfb28-7c39-4a26-b324-5adcfcba054a",
   "metadata": {},
   "source": [
    "<h1>Data Science Tools and Ecosystem</h1>"
   ]
  },
  {
   "cell_type": "markdown",
   "id": "455f272f-f5e6-4855-986a-e64e7257bfb7",
   "metadata": {},
   "source": [
    "<h2>Author:</h2>\n",
    "Haakon Haakstad"
   ]
  },
  {
   "cell_type": "markdown",
   "id": "ea9fb41b-e5be-4030-a316-691e1da16b7d",
   "metadata": {},
   "source": [
    "In this notebook, Data Science Tools and Ecosystem are summarized."
   ]
  },
  {
   "cell_type": "markdown",
   "id": "30ec7b8a-fc9e-4bd9-a9fb-b9a3beeac850",
   "metadata": {},
   "source": [
    "Objectives that this notebook covered:\n",
    "- Creating Jupyter notebook.\n",
    "- Make cells and write/execute markdown and code within cells.\n",
    "- Make lists and tables in markdown."
   ]
  },
  {
   "cell_type": "markdown",
   "id": "b2be313c-fe0b-40f2-9ec0-37d81c02d26b",
   "metadata": {},
   "source": [
    "Data science languages:\n",
    "1. Python\n",
    "2. R\n",
    "3. Julia"
   ]
  },
  {
   "cell_type": "markdown",
   "id": "cbd3464c-4962-4b44-aae6-f8ee7a1c75fa",
   "metadata": {},
   "source": [
    "Some of the commonly used libraries used by Data Scientists include:\n",
    "1. TensorFlow\n",
    "2. Pandas\n",
    "3. Scikit-learn"
   ]
  },
  {
   "cell_type": "markdown",
   "id": "087f40af-7791-4ed1-b0c1-ff3d436f9844",
   "metadata": {},
   "source": [
    "| Data Science Tools: |\n",
    "| ------------------- |\n",
    "| Jupyter |\n",
    "| VS-code |\n",
    "| R-studio |"
   ]
  },
  {
   "cell_type": "markdown",
   "id": "0aa82d16-58d8-4214-bd48-8993a0971a04",
   "metadata": {},
   "source": [
    "<h3>Below are a few examples of evaluating arithmetic expressions in Python.</h3>"
   ]
  },
  {
   "cell_type": "code",
   "execution_count": 1,
   "id": "9183668e-127d-4520-b186-f1eeb1a37b47",
   "metadata": {
    "tags": []
   },
   "outputs": [
    {
     "data": {
      "text/plain": [
       "17"
      ]
     },
     "execution_count": 1,
     "metadata": {},
     "output_type": "execute_result"
    }
   ],
   "source": [
    "# This is a simple arithmetic expression to multiply then add integers.\n",
    "(3*4)+5"
   ]
  },
  {
   "cell_type": "code",
   "execution_count": 2,
   "id": "ce5c7271-d4e7-4646-b884-17302755395c",
   "metadata": {
    "tags": []
   },
   "outputs": [
    {
     "data": {
      "text/plain": [
       "3.3333333333333335"
      ]
     },
     "execution_count": 2,
     "metadata": {},
     "output_type": "execute_result"
    }
   ],
   "source": [
    "# This will convert minutes to hours by dividing by 60.\n",
    "def minsToHours(x):\n",
    "    return x / 60\n",
    "minsToHours(200)"
   ]
  },
  {
   "cell_type": "code",
   "execution_count": null,
   "id": "999d2304-b200-4812-bcfc-f472c84a83a2",
   "metadata": {},
   "outputs": [],
   "source": []
  }
 ],
 "metadata": {
  "kernelspec": {
   "display_name": "Python",
   "language": "python",
   "name": "conda-env-python-py"
  },
  "language_info": {
   "codemirror_mode": {
    "name": "ipython",
    "version": 3
   },
   "file_extension": ".py",
   "mimetype": "text/x-python",
   "name": "python",
   "nbconvert_exporter": "python",
   "pygments_lexer": "ipython3",
   "version": "3.7.12"
  }
 },
 "nbformat": 4,
 "nbformat_minor": 5
}
